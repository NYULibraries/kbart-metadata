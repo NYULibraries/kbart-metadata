{
 "cells": [
  {
   "cell_type": "markdown",
   "id": "5461d477-9df1-4f46-99d0-74e76f2031e8",
   "metadata": {},
   "source": [
    "# KBART metadata reshaping script\n",
    "This script takes a title list and generates two derivative KBART files (NISO KBART and OCLC KBART).\n",
    "\n",
    "Written using Python 3.7.10\n",
    "\n",
    "to do: incorporate filters to exclude rows from the original title list that are still in process."
   ]
  },
  {
   "cell_type": "code",
   "execution_count": 1,
   "id": "0d2cc5db-e583-459e-a2d1-56e7939fc179",
   "metadata": {},
   "outputs": [],
   "source": [
    "#import modules and libraries\n",
    "import pandas as pd\n",
    "import numpy as np\n",
    "from datetime import datetime, date, time\n",
    "filetime = datetime.now()\n",
    "filetime = filetime.strftime(\"%Y-%m-%d\")"
   ]
  },
  {
   "cell_type": "code",
   "execution_count": 2,
   "id": "048569a8-60bd-4ea2-84e3-b3d25dc36a92",
   "metadata": {},
   "outputs": [
    {
     "name": "stdin",
     "output_type": "stream",
     "text": [
      "enter file name and if appropriate filepath of title list csv:  AWDL_Title_List - New KBART_2022-03-22.csv\n"
     ]
    }
   ],
   "source": [
    "#enter the name of the title list to reshape into KBART files\n",
    "title_list = input(\"enter file name and if appropriate filepath of title list csv: \")"
   ]
  },
  {
   "cell_type": "code",
   "execution_count": 3,
   "id": "95a0f96a-584b-4f12-abd4-d73356fb7397",
   "metadata": {},
   "outputs": [
    {
     "name": "stdin",
     "output_type": "stream",
     "text": [
      "enter the collection name for this title list:  awdl\n"
     ]
    }
   ],
   "source": [
    "#enter the name of the digital collection so that we can use it in the file name later\n",
    "collection_name = input(\"enter the collection name for this title list: \")"
   ]
  },
  {
   "cell_type": "code",
   "execution_count": 4,
   "id": "0e6c28f1-bc6e-481e-8eb1-7f9b68f0d5af",
   "metadata": {},
   "outputs": [
    {
     "name": "stdout",
     "output_type": "stream",
     "text": [
      "<class 'pandas.core.frame.DataFrame'>\n",
      "RangeIndex: 484 entries, 0 to 483\n",
      "Data columns (total 41 columns):\n",
      " #   Column                             Non-Null Count  Dtype \n",
      "---  ------                             --------------  ----- \n",
      " 0   note                               484 non-null    object\n",
      " 1   date updated                       484 non-null    object\n",
      " 2   status                             484 non-null    object\n",
      " 3   publication_title_original         484 non-null    object\n",
      " 4   publication_title_transliteration  484 non-null    object\n",
      " 5   print_identifier                   484 non-null    object\n",
      " 6   online_identifier                  484 non-null    object\n",
      " 7   date_first_issue_online            484 non-null    object\n",
      " 8   num_first_vol_online               484 non-null    object\n",
      " 9   num_first_issue_online             484 non-null    object\n",
      " 10  date_last_issue_online             484 non-null    object\n",
      " 11  num_last_vol_online                484 non-null    object\n",
      " 12  num_last_issue_online              484 non-null    object\n",
      " 13  title_url                          484 non-null    object\n",
      " 14  first_author                       484 non-null    object\n",
      " 15  title_id                           484 non-null    object\n",
      " 16  embargo_info                       484 non-null    object\n",
      " 17  coverage_depth                     484 non-null    object\n",
      " 18  coverage_notes                     484 non-null    object\n",
      " 19  publisher_name                     484 non-null    object\n",
      " 20  location                           484 non-null    object\n",
      " 21  title_notes                        484 non-null    object\n",
      " 22  staff_notes                        484 non-null    object\n",
      " 23  vendor_id                          484 non-null    object\n",
      " 24  oclc_collection_name               484 non-null    object\n",
      " 25  oclc_collection_id                 484 non-null    object\n",
      " 26  oclc_entry_id                      484 non-null    object\n",
      " 27  oclc_linkscheme                    484 non-null    object\n",
      " 28  oclc_number                        484 non-null    object\n",
      " 29  ACTION                             484 non-null    object\n",
      " 30  Aleph BSN                          484 non-null    int64 \n",
      " 31  publication_type                   484 non-null    object\n",
      " 32  date_monograph_published_print     484 non-null    object\n",
      " 33  date_monograph_published_online    484 non-null    object\n",
      " 34  monograph_volume                   484 non-null    object\n",
      " 35  monograph_edition                  484 non-null    object\n",
      " 36  first_editor                       484 non-null    object\n",
      " 37  parent_publication_title_id        484 non-null    object\n",
      " 38  preceding_publication_title_id     484 non-null    object\n",
      " 39  access_type                        484 non-null    object\n",
      " 40  previous_url                       484 non-null    object\n",
      "dtypes: int64(1), object(40)\n",
      "memory usage: 155.2+ KB\n",
      "None\n"
     ]
    }
   ],
   "source": [
    "# load title list dataframe from csv input above\n",
    "df_title_list = pd.read_csv(title_list,na_filter=False,quotechar = '\"')\n",
    "print(df_title_list.info())"
   ]
  },
  {
   "cell_type": "markdown",
   "id": "06e12040-4159-48d0-a038-cba8f77bf533",
   "metadata": {},
   "source": [
    "## NISO KBART\n",
    "First, let's create a KBART file compliant with the NISO standard."
   ]
  },
  {
   "cell_type": "code",
   "execution_count": null,
   "id": "7434af2a-339c-4a89-b19a-233e3ad56803",
   "metadata": {},
   "outputs": [],
   "source": [
    "#copy the title list into a new dataframe that will be used to create the NISO KBART file.\n",
    "df_niso_kbart = df_title_list.copy()\n",
    "#print(df_niso_kbart)"
   ]
  },
  {
   "cell_type": "code",
   "execution_count": null,
   "id": "e5513d03-eab5-4e2b-9cf9-6e3202cfb1b4",
   "metadata": {},
   "outputs": [],
   "source": [
    "#replace ebook with fulltext in coverage_depth column\n",
    "#from https://datatofish.com/replace-values-pandas-dataframe/\n",
    "df_niso_kbart['coverage_depth'] = df_niso_kbart['coverage_depth'].replace(['ebook'],'fulltext')\n",
    "print(df_niso_kbart['coverage_depth'])"
   ]
  },
  {
   "cell_type": "code",
   "execution_count": null,
   "id": "edb67a53-8739-4240-9d22-85c4833189c3",
   "metadata": {},
   "outputs": [],
   "source": [
    "#concatenate original script and transliterated title columns\n",
    "#based on https://stackoverflow.com/questions/60724940/concatenate-strings-across-columns-that-are-not-null\n",
    "df_niso_kbart['publication_title'] = df_niso_kbart[['publication_title_original', 'publication_title_transliteration']].apply(lambda x: ' '.join(x.dropna()), axis=1)\n",
    "print(df_niso_kbart['publication_title'])\n",
    "print(df_niso_kbart.loc[21,'publication_title'])"
   ]
  },
  {
   "cell_type": "code",
   "execution_count": null,
   "id": "c84ee3a5-5bb2-4b62-abfd-3e3d75708f65",
   "metadata": {},
   "outputs": [],
   "source": [
    "#drop rows that contain a status value of \"in progress\" or \"delete\"\n",
    "#based on https://www.statology.org/pandas-drop-rows-that-contain-string/\n",
    "df_niso_kbart = df_niso_kbart[df_niso_kbart['status'].str.contains(\"in progress|delete\")==False]\n",
    "print(df_niso_kbart.loc[95:120,'publication_title'])"
   ]
  },
  {
   "cell_type": "code",
   "execution_count": null,
   "id": "d4898926-6554-477c-bf64-4762ec2c25d2",
   "metadata": {},
   "outputs": [],
   "source": [
    "#drop unecessary columns from the NISO KBART\n",
    "df_niso_kbart.drop(['note','date updated','status','publication_title_original','publication_title_transliteration','ACTION','Aleph BSN','previous_url'], axis=1, inplace=True)\n",
    "print(df_niso_kbart.info())"
   ]
  },
  {
   "cell_type": "code",
   "execution_count": null,
   "id": "5278acbe-dad4-4c4b-8f6b-fb55d1557405",
   "metadata": {},
   "outputs": [],
   "source": [
    "#move publication_title to be the first column\n",
    "#based on https://www.geeksforgeeks.org/how-to-move-a-column-to-first-position-in-pandas-dataframe/\n",
    "#and https://stackoverflow.com/questions/25122099/move-column-by-name-to-front-of-table-in-pandas\n",
    "col = df_niso_kbart.pop('publication_title')\n",
    "df_niso_kbart.insert(0, col.name, col)\n",
    "print(df_niso_kbart.info())"
   ]
  },
  {
   "cell_type": "code",
   "execution_count": null,
   "id": "9df33e92-6b60-4c9b-a4c1-993189db6bfc",
   "metadata": {},
   "outputs": [],
   "source": [
    "#write the new NISO KBART to tsv, inserting the collection name and today's date.\n",
    "#from https://matthew-brett.github.io/teaching/string_formatting.html\n",
    "df_niso_kbart.to_csv(\"nyu_global_{}_{}.txt\".format(collection_name,filetime), sep=\"\\t\", index=False)"
   ]
  },
  {
   "cell_type": "markdown",
   "id": "42d46183-716a-4004-99d7-561b2571fd02",
   "metadata": {},
   "source": [
    "## OCLC KBART\n",
    "Next, let's create a KBART that can be uploaded to OCLC's Worldshare platform."
   ]
  },
  {
   "cell_type": "code",
   "execution_count": 5,
   "id": "ccccbfc0-099e-4074-845f-73068b812591",
   "metadata": {},
   "outputs": [],
   "source": [
    "#copy the title list into a new dataframe that will be used to create the OCLC KBART file.\n",
    "df_oclc_kbart = df_title_list.copy()\n",
    "#print(df_oclc_kbart)"
   ]
  },
  {
   "cell_type": "code",
   "execution_count": 6,
   "id": "d6d1e015-2e85-4989-bf6c-7562ee45f68a",
   "metadata": {},
   "outputs": [
    {
     "name": "stdout",
     "output_type": "stream",
     "text": [
      "<class 'pandas.core.frame.DataFrame'>\n",
      "RangeIndex: 484 entries, 0 to 483\n",
      "Data columns (total 41 columns):\n",
      " #   Column                             Non-Null Count  Dtype \n",
      "---  ------                             --------------  ----- \n",
      " 0   note                               484 non-null    object\n",
      " 1   date updated                       484 non-null    object\n",
      " 2   status                             484 non-null    object\n",
      " 3   publication_title_original         484 non-null    object\n",
      " 4   publication_title_transliteration  484 non-null    object\n",
      " 5   print_identifier                   484 non-null    object\n",
      " 6   online_identifier                  484 non-null    object\n",
      " 7   date_first_issue_online            484 non-null    object\n",
      " 8   num_first_vol_online               484 non-null    object\n",
      " 9   num_first_issue_online             484 non-null    object\n",
      " 10  date_last_issue_online             484 non-null    object\n",
      " 11  num_last_vol_online                484 non-null    object\n",
      " 12  num_last_issue_online              484 non-null    object\n",
      " 13  title_url                          484 non-null    object\n",
      " 14  first_author                       484 non-null    object\n",
      " 15  title_id                           484 non-null    object\n",
      " 16  embargo_info                       484 non-null    object\n",
      " 17  coverage_depth                     484 non-null    object\n",
      " 18  coverage_notes                     484 non-null    object\n",
      " 19  publisher_name                     484 non-null    object\n",
      " 20  location                           484 non-null    object\n",
      " 21  title_notes                        484 non-null    object\n",
      " 22  staff_notes                        484 non-null    object\n",
      " 23  vendor_id                          484 non-null    object\n",
      " 24  oclc_collection_name               484 non-null    object\n",
      " 25  oclc_collection_id                 484 non-null    object\n",
      " 26  oclc_entry_id                      484 non-null    object\n",
      " 27  oclc_linkscheme                    484 non-null    object\n",
      " 28  oclc_number                        484 non-null    object\n",
      " 29  ACTION                             484 non-null    object\n",
      " 30  Aleph BSN                          484 non-null    int64 \n",
      " 31  publication_type                   484 non-null    object\n",
      " 32  date_monograph_published_print     484 non-null    object\n",
      " 33  date_monograph_published_online    484 non-null    object\n",
      " 34  monograph_volume                   484 non-null    object\n",
      " 35  monograph_edition                  484 non-null    object\n",
      " 36  first_editor                       484 non-null    object\n",
      " 37  parent_publication_title_id        484 non-null    object\n",
      " 38  preceding_publication_title_id     484 non-null    object\n",
      " 39  access_type                        484 non-null    object\n",
      " 40  previous_url                       484 non-null    object\n",
      "dtypes: int64(1), object(40)\n",
      "memory usage: 155.2+ KB\n",
      "None\n"
     ]
    }
   ],
   "source": [
    "#rename the notes column to conform to OCLC's expectations\n",
    "df_oclc_kbart.rename(columns={'notes':'coverage_notes'}, inplace=True)\n",
    "print(df_oclc_kbart.info())"
   ]
  },
  {
   "cell_type": "code",
   "execution_count": 7,
   "id": "9c397220-e14d-408b-a940-bd47d525fc1e",
   "metadata": {},
   "outputs": [
    {
     "name": "stdout",
     "output_type": "stream",
     "text": [
      "0      \"Wenn Du mein Bruder bist,…\" : Interaktion und...\n",
      "1      A catalogue of the Egyptian antiquities in the...\n",
      "2      A catalogue of the Egyptian antiquities in the...\n",
      "3      A collection of hieroglyphs a contribution to ...\n",
      "4                        A companion to Demotic studies \n",
      "                             ...                        \n",
      "479    Tools and weapons illustrated by the Egyptian ...\n",
      "480                                  Two Theban princes \n",
      "481    Spätbabylonische Texte zum lokalen und regiona...\n",
      "482                               The arrows of the sun \n",
      "483    The archive of Mušēzib-Marduk, son of Kiribtu ...\n",
      "Name: publication_title, Length: 484, dtype: object\n",
      "Abū Sa‘īd-i Abū l-Hayr (357-440/967-1049) : Wirklichkeit und Legende. (Textes et Mémoires, 4). Abū Sa‘īd-i Abū l-Hayr (357-440/967-1049) : Wirklichkeit und Legende. (Textes et Mémoires, 4).\n"
     ]
    }
   ],
   "source": [
    "#concatenate original script and transliterated title columns\n",
    "#based on https://stackoverflow.com/questions/60724940/concatenate-strings-across-columns-that-are-not-null\n",
    "df_oclc_kbart['publication_title'] = df_oclc_kbart[['publication_title_original', 'publication_title_transliteration']].apply(lambda x: ' '.join(x.dropna()), axis=1)\n",
    "print(df_oclc_kbart['publication_title'])\n",
    "print(df_oclc_kbart.loc[21,'publication_title'])"
   ]
  },
  {
   "cell_type": "code",
   "execution_count": 8,
   "id": "e9c6c250-20bb-45f9-bd7a-46b95211e32e",
   "metadata": {},
   "outputs": [
    {
     "name": "stdout",
     "output_type": "stream",
     "text": [
      "95              Chester Beatty Biblical papyri IV and V \n",
      "96     Christianity, Judaism and Other Greco-Roman Cu...\n",
      "97     Circle of Inner Asian Art and Archaeology News...\n",
      "99                 Circle of Inner Asian Art Newsletter \n",
      "119          Collection d'anciennes étoffes égyptiennes \n",
      "120            Collection du Docteur Fouquet, du Caire. \n",
      "Name: publication_title, dtype: object\n"
     ]
    }
   ],
   "source": [
    "#drop rows that contain a status value of \"in progress\" or \"delete\"\n",
    "#based on https://www.statology.org/pandas-drop-rows-that-contain-string/\n",
    "df_oclc_kbart = df_oclc_kbart[df_oclc_kbart['status'].str.contains(\"in progress|delete\")==False]\n",
    "print(df_oclc_kbart.loc[95:120,'publication_title'])"
   ]
  },
  {
   "cell_type": "code",
   "execution_count": 9,
   "id": "2f7bc310-0608-4b4d-beab-e2d608a5fb27",
   "metadata": {},
   "outputs": [
    {
     "name": "stdout",
     "output_type": "stream",
     "text": [
      "<class 'pandas.core.frame.DataFrame'>\n",
      "Int64Index: 461 entries, 0 to 483\n",
      "Data columns (total 26 columns):\n",
      " #   Column                   Non-Null Count  Dtype \n",
      "---  ------                   --------------  ----- \n",
      " 0   print_identifier         461 non-null    object\n",
      " 1   online_identifier        461 non-null    object\n",
      " 2   date_first_issue_online  461 non-null    object\n",
      " 3   num_first_vol_online     461 non-null    object\n",
      " 4   num_first_issue_online   461 non-null    object\n",
      " 5   date_last_issue_online   461 non-null    object\n",
      " 6   num_last_vol_online      461 non-null    object\n",
      " 7   num_last_issue_online    461 non-null    object\n",
      " 8   title_url                461 non-null    object\n",
      " 9   first_author             461 non-null    object\n",
      " 10  title_id                 461 non-null    object\n",
      " 11  embargo_info             461 non-null    object\n",
      " 12  coverage_depth           461 non-null    object\n",
      " 13  coverage_notes           461 non-null    object\n",
      " 14  publisher_name           461 non-null    object\n",
      " 15  location                 461 non-null    object\n",
      " 16  title_notes              461 non-null    object\n",
      " 17  staff_notes              461 non-null    object\n",
      " 18  vendor_id                461 non-null    object\n",
      " 19  oclc_collection_name     461 non-null    object\n",
      " 20  oclc_collection_id       461 non-null    object\n",
      " 21  oclc_entry_id            461 non-null    object\n",
      " 22  oclc_linkscheme          461 non-null    object\n",
      " 23  oclc_number              461 non-null    object\n",
      " 24  ACTION                   461 non-null    object\n",
      " 25  publication_title        461 non-null    object\n",
      "dtypes: object(26)\n",
      "memory usage: 113.4+ KB\n",
      "None\n"
     ]
    }
   ],
   "source": [
    "#drop unnecessary columns\n",
    "df_oclc_kbart.drop([\"note\",\"date updated\",\"status\",\"Aleph BSN\",\"previous_url\",\"publication_title_original\",\"publication_title_transliteration\",\"publication_type\",\"date_monograph_published_print\",\"date_monograph_published_online\",\"monograph_volume\",\"monograph_edition\",\"first_editor\",\"parent_publication_title_id\",\"preceding_publication_title_id\",\"access_type\"], axis=1, inplace=True)\n",
    "print(df_oclc_kbart.info())"
   ]
  },
  {
   "cell_type": "code",
   "execution_count": 10,
   "id": "aefa4154-05f2-4562-94ee-555156971988",
   "metadata": {},
   "outputs": [
    {
     "name": "stdout",
     "output_type": "stream",
     "text": [
      "<class 'pandas.core.frame.DataFrame'>\n",
      "Int64Index: 461 entries, 0 to 483\n",
      "Data columns (total 26 columns):\n",
      " #   Column                   Non-Null Count  Dtype \n",
      "---  ------                   --------------  ----- \n",
      " 0   publication_title        461 non-null    object\n",
      " 1   print_identifier         461 non-null    object\n",
      " 2   online_identifier        461 non-null    object\n",
      " 3   date_first_issue_online  461 non-null    object\n",
      " 4   num_first_vol_online     461 non-null    object\n",
      " 5   num_first_issue_online   461 non-null    object\n",
      " 6   date_last_issue_online   461 non-null    object\n",
      " 7   num_last_vol_online      461 non-null    object\n",
      " 8   num_last_issue_online    461 non-null    object\n",
      " 9   title_url                461 non-null    object\n",
      " 10  first_author             461 non-null    object\n",
      " 11  title_id                 461 non-null    object\n",
      " 12  embargo_info             461 non-null    object\n",
      " 13  coverage_depth           461 non-null    object\n",
      " 14  coverage_notes           461 non-null    object\n",
      " 15  publisher_name           461 non-null    object\n",
      " 16  location                 461 non-null    object\n",
      " 17  title_notes              461 non-null    object\n",
      " 18  staff_notes              461 non-null    object\n",
      " 19  vendor_id                461 non-null    object\n",
      " 20  oclc_collection_name     461 non-null    object\n",
      " 21  oclc_collection_id       461 non-null    object\n",
      " 22  oclc_entry_id            461 non-null    object\n",
      " 23  oclc_linkscheme          461 non-null    object\n",
      " 24  oclc_number              461 non-null    object\n",
      " 25  ACTION                   461 non-null    object\n",
      "dtypes: object(26)\n",
      "memory usage: 113.4+ KB\n",
      "None\n"
     ]
    }
   ],
   "source": [
    "#reorder the columns by moving the NISO KBART columns not found in OCLC's KBART to the end\n",
    "df_oclc_kbart = df_oclc_kbart[[\"publication_title\",\"print_identifier\",\"online_identifier\",\"date_first_issue_online\",\"num_first_vol_online\",\"num_first_issue_online\",\"date_last_issue_online\",\"num_last_vol_online\",\"num_last_issue_online\",\"title_url\",\"first_author\",\"title_id\",\"embargo_info\",\"coverage_depth\",\"coverage_notes\",\"publisher_name\",\"location\",\"title_notes\",\"staff_notes\",\"vendor_id\",\"oclc_collection_name\",\"oclc_collection_id\",\"oclc_entry_id\",\"oclc_linkscheme\",\"oclc_number\",\"ACTION\"]]\n",
    "print(df_oclc_kbart.info())"
   ]
  },
  {
   "cell_type": "code",
   "execution_count": 11,
   "id": "9de5cff5-bcfa-469c-b9bf-09814af37f7f",
   "metadata": {},
   "outputs": [],
   "source": [
    "#write the new OCLC KBART to csv, inserting the collection name and today's date.\n",
    "#from https://matthew-brett.github.io/teaching/string_formatting.html\n",
    "df_oclc_kbart.to_csv(\"nyu_oclc_{}_{}.txt\".format(collection_name,filetime), sep=\"\\t\", index=False)"
   ]
  },
  {
   "cell_type": "code",
   "execution_count": null,
   "id": "0b907254",
   "metadata": {},
   "outputs": [],
   "source": []
  }
 ],
 "metadata": {
  "kernelspec": {
   "display_name": "Python 3 (ipykernel)",
   "language": "python",
   "name": "python3"
  },
  "language_info": {
   "codemirror_mode": {
    "name": "ipython",
    "version": 3
   },
   "file_extension": ".py",
   "mimetype": "text/x-python",
   "name": "python",
   "nbconvert_exporter": "python",
   "pygments_lexer": "ipython3",
   "version": "3.7.10"
  }
 },
 "nbformat": 4,
 "nbformat_minor": 5
}
