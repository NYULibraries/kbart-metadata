{
 "cells": [
  {
   "cell_type": "markdown",
   "id": "5461d477-9df1-4f46-99d0-74e76f2031e8",
   "metadata": {},
   "source": [
    "# KBART metadata reshaping script\n",
    "This script takes a title list and generates two derivative KBART files (NISO KBART and OCLC KBART).\n",
    "\n",
    "Written using Python 3.7.10"
   ]
  },
  {
   "cell_type": "code",
   "execution_count": 1,
   "id": "0d2cc5db-e583-459e-a2d1-56e7939fc179",
   "metadata": {},
   "outputs": [],
   "source": [
    "#import modules and libraries\n",
    "import pandas as pd\n",
    "import numpy as np\n",
    "from datetime import datetime, date, time\n",
    "filetime = datetime.now()\n",
    "filetime = filetime.strftime(\"%Y-%m-%d\")"
   ]
  },
  {
   "cell_type": "code",
   "execution_count": 2,
   "id": "048569a8-60bd-4ea2-84e3-b3d25dc36a92",
   "metadata": {},
   "outputs": [
    {
     "name": "stdin",
     "output_type": "stream",
     "text": [
      "enter file name and if appropriate filepath of title list csv:  AWDL_title_list.csv\n"
     ]
    }
   ],
   "source": [
    "#enter the name of the title list to reshape into KBART files\n",
    "title_list = input(\"enter file name and if appropriate filepath of title list csv: \")"
   ]
  },
  {
   "cell_type": "code",
   "execution_count": 3,
   "id": "95a0f96a-584b-4f12-abd4-d73356fb7397",
   "metadata": {},
   "outputs": [
    {
     "name": "stdin",
     "output_type": "stream",
     "text": [
      "enter the collection name for this title list:  awdl\n"
     ]
    }
   ],
   "source": [
    "#enter the name of the digital collection so that we can use it in the file name later\n",
    "collection_name = input(\"enter the collection name for this title list: \")"
   ]
  },
  {
   "cell_type": "code",
   "execution_count": 4,
   "id": "0e6c28f1-bc6e-481e-8eb1-7f9b68f0d5af",
   "metadata": {},
   "outputs": [
    {
     "name": "stdout",
     "output_type": "stream",
     "text": [
      "<class 'pandas.core.frame.DataFrame'>\n",
      "RangeIndex: 481 entries, 0 to 480\n",
      "Data columns (total 40 columns):\n",
      " #   Column                           Non-Null Count  Dtype \n",
      "---  ------                           --------------  ----- \n",
      " 0   note                             481 non-null    object\n",
      " 1   date updated                     481 non-null    object\n",
      " 2   status                           481 non-null    object\n",
      " 3   publication_title                481 non-null    object\n",
      " 4   print_identifier                 481 non-null    object\n",
      " 5   online_identifier                481 non-null    object\n",
      " 6   date_first_issue_online          481 non-null    object\n",
      " 7   num_first_vol_online             481 non-null    object\n",
      " 8   num_first_issue_online           481 non-null    object\n",
      " 9   date_last_issue_online           481 non-null    object\n",
      " 10  num_last_vol_online              481 non-null    object\n",
      " 11  num_last_issue_online            481 non-null    object\n",
      " 12  title_url                        481 non-null    object\n",
      " 13  first_author                     481 non-null    object\n",
      " 14  title_id                         481 non-null    object\n",
      " 15  embargo_info                     481 non-null    object\n",
      " 16  coverage_depth                   481 non-null    object\n",
      " 17  notes                            481 non-null    object\n",
      " 18  publisher_name                   481 non-null    object\n",
      " 19  publication_type                 481 non-null    object\n",
      " 20  date_monograph_published_print   481 non-null    object\n",
      " 21  date_monograph_published_online  481 non-null    object\n",
      " 22  monograph_volume                 481 non-null    object\n",
      " 23  monograph_edition                481 non-null    object\n",
      " 24  first_editor                     481 non-null    object\n",
      " 25  parent_publication_title_id      481 non-null    object\n",
      " 26  preceding_publication_title_id   481 non-null    object\n",
      " 27  access_type                      481 non-null    object\n",
      " 28  location                         481 non-null    object\n",
      " 29  title_notes                      481 non-null    object\n",
      " 30  staff_notes                      481 non-null    object\n",
      " 31  vendor_id                        481 non-null    object\n",
      " 32  oclc_collection_name             481 non-null    object\n",
      " 33  oclc_collection_id               481 non-null    object\n",
      " 34  oclc_entry_id                    481 non-null    object\n",
      " 35  oclc_linkscheme                  481 non-null    object\n",
      " 36  oclc_number                      481 non-null    object\n",
      " 37  ACTION                           481 non-null    object\n",
      " 38  Aleph BSN                        481 non-null    int64 \n",
      " 39  previous_url                     481 non-null    object\n",
      "dtypes: int64(1), object(39)\n",
      "memory usage: 150.4+ KB\n",
      "None\n"
     ]
    }
   ],
   "source": [
    "# load title list dataframe from csv input above\n",
    "df_title_list = pd.read_csv(title_list,na_filter=False,quotechar = '\"')\n",
    "print(df_title_list.info())"
   ]
  },
  {
   "cell_type": "markdown",
   "id": "06e12040-4159-48d0-a038-cba8f77bf533",
   "metadata": {},
   "source": [
    "## NISO KBART\n",
    "First, let's create a KBART file compliant with the NISO standard."
   ]
  },
  {
   "cell_type": "code",
   "execution_count": 5,
   "id": "7434af2a-339c-4a89-b19a-233e3ad56803",
   "metadata": {},
   "outputs": [],
   "source": [
    "#copy the title list into a new dataframe that will be used to create the NISO KBART file.\n",
    "df_niso_kbart = df_title_list.copy()\n",
    "#print(df_niso_kbart)"
   ]
  },
  {
   "cell_type": "code",
   "execution_count": 6,
   "id": "e5513d03-eab5-4e2b-9cf9-6e3202cfb1b4",
   "metadata": {},
   "outputs": [
    {
     "name": "stdout",
     "output_type": "stream",
     "text": [
      "0              \n",
      "1      fulltext\n",
      "2      fulltext\n",
      "3      fulltext\n",
      "4      fulltext\n",
      "         ...   \n",
      "476    fulltext\n",
      "477    fulltext\n",
      "478    fulltext\n",
      "479    fulltext\n",
      "480    fulltext\n",
      "Name: coverage_depth, Length: 481, dtype: object\n"
     ]
    }
   ],
   "source": [
    "#replace ebook with fulltext in coverage_depth column\n",
    "#from https://datatofish.com/replace-values-pandas-dataframe/\n",
    "df_niso_kbart['coverage_depth'] = df_niso_kbart['coverage_depth'].replace(['ebook'],'fulltext')\n",
    "print(df_niso_kbart['coverage_depth'])"
   ]
  },
  {
   "cell_type": "code",
   "execution_count": 7,
   "id": "d4898926-6554-477c-bf64-4762ec2c25d2",
   "metadata": {},
   "outputs": [],
   "source": [
    "#drop unecessary columns from the NISO KBART\n",
    "df_niso_kbart.drop(['note','date updated','status','ACTION','Aleph BSN','previous_url'], axis=1, inplace=True)\n",
    "#print(df_niso_kbart.info())"
   ]
  },
  {
   "cell_type": "code",
   "execution_count": 8,
   "id": "9df33e92-6b60-4c9b-a4c1-993189db6bfc",
   "metadata": {},
   "outputs": [],
   "source": [
    "#write the new NISO KBART to csv, inserting the collection name and today's date.\n",
    "#from https://matthew-brett.github.io/teaching/string_formatting.html\n",
    "df_niso_kbart.to_csv(\"nyu_global_{}_{}.csv\".format(collection_name,filetime), index=False)"
   ]
  },
  {
   "cell_type": "markdown",
   "id": "42d46183-716a-4004-99d7-561b2571fd02",
   "metadata": {},
   "source": [
    "## OCLC KBART\n",
    "Next, let's create a KBART that can be uploaded to OCLC's Worldshare platform."
   ]
  },
  {
   "cell_type": "code",
   "execution_count": 9,
   "id": "ccccbfc0-099e-4074-845f-73068b812591",
   "metadata": {},
   "outputs": [],
   "source": [
    "#copy the title list into a new dataframe that will be used to create the OCLC KBART file.\n",
    "df_oclc_kbart = df_title_list.copy()\n",
    "#print(df_oclc_kbart)"
   ]
  },
  {
   "cell_type": "code",
   "execution_count": 10,
   "id": "d6d1e015-2e85-4989-bf6c-7562ee45f68a",
   "metadata": {},
   "outputs": [
    {
     "name": "stdout",
     "output_type": "stream",
     "text": [
      "<class 'pandas.core.frame.DataFrame'>\n",
      "RangeIndex: 481 entries, 0 to 480\n",
      "Data columns (total 40 columns):\n",
      " #   Column                           Non-Null Count  Dtype \n",
      "---  ------                           --------------  ----- \n",
      " 0   note                             481 non-null    object\n",
      " 1   date updated                     481 non-null    object\n",
      " 2   status                           481 non-null    object\n",
      " 3   publication_title                481 non-null    object\n",
      " 4   print_identifier                 481 non-null    object\n",
      " 5   online_identifier                481 non-null    object\n",
      " 6   date_first_issue_online          481 non-null    object\n",
      " 7   num_first_vol_online             481 non-null    object\n",
      " 8   num_first_issue_online           481 non-null    object\n",
      " 9   date_last_issue_online           481 non-null    object\n",
      " 10  num_last_vol_online              481 non-null    object\n",
      " 11  num_last_issue_online            481 non-null    object\n",
      " 12  title_url                        481 non-null    object\n",
      " 13  first_author                     481 non-null    object\n",
      " 14  title_id                         481 non-null    object\n",
      " 15  embargo_info                     481 non-null    object\n",
      " 16  coverage_depth                   481 non-null    object\n",
      " 17  coverage_notes                   481 non-null    object\n",
      " 18  publisher_name                   481 non-null    object\n",
      " 19  publication_type                 481 non-null    object\n",
      " 20  date_monograph_published_print   481 non-null    object\n",
      " 21  date_monograph_published_online  481 non-null    object\n",
      " 22  monograph_volume                 481 non-null    object\n",
      " 23  monograph_edition                481 non-null    object\n",
      " 24  first_editor                     481 non-null    object\n",
      " 25  parent_publication_title_id      481 non-null    object\n",
      " 26  preceding_publication_title_id   481 non-null    object\n",
      " 27  access_type                      481 non-null    object\n",
      " 28  location                         481 non-null    object\n",
      " 29  title_notes                      481 non-null    object\n",
      " 30  staff_notes                      481 non-null    object\n",
      " 31  vendor_id                        481 non-null    object\n",
      " 32  oclc_collection_name             481 non-null    object\n",
      " 33  oclc_collection_id               481 non-null    object\n",
      " 34  oclc_entry_id                    481 non-null    object\n",
      " 35  oclc_linkscheme                  481 non-null    object\n",
      " 36  oclc_number                      481 non-null    object\n",
      " 37  ACTION                           481 non-null    object\n",
      " 38  Aleph BSN                        481 non-null    int64 \n",
      " 39  previous_url                     481 non-null    object\n",
      "dtypes: int64(1), object(39)\n",
      "memory usage: 150.4+ KB\n",
      "None\n"
     ]
    }
   ],
   "source": [
    "#rename the notes column to conform to OCLC's expectations\n",
    "df_oclc_kbart.rename(columns={'notes':'coverage_notes'}, inplace=True)\n",
    "print(df_oclc_kbart.info())"
   ]
  },
  {
   "cell_type": "code",
   "execution_count": 11,
   "id": "2f7bc310-0608-4b4d-beab-e2d608a5fb27",
   "metadata": {},
   "outputs": [
    {
     "name": "stdout",
     "output_type": "stream",
     "text": [
      "<class 'pandas.core.frame.DataFrame'>\n",
      "RangeIndex: 481 entries, 0 to 480\n",
      "Data columns (total 35 columns):\n",
      " #   Column                           Non-Null Count  Dtype \n",
      "---  ------                           --------------  ----- \n",
      " 0   publication_title                481 non-null    object\n",
      " 1   print_identifier                 481 non-null    object\n",
      " 2   online_identifier                481 non-null    object\n",
      " 3   date_first_issue_online          481 non-null    object\n",
      " 4   num_first_vol_online             481 non-null    object\n",
      " 5   num_first_issue_online           481 non-null    object\n",
      " 6   date_last_issue_online           481 non-null    object\n",
      " 7   num_last_vol_online              481 non-null    object\n",
      " 8   num_last_issue_online            481 non-null    object\n",
      " 9   title_url                        481 non-null    object\n",
      " 10  first_author                     481 non-null    object\n",
      " 11  title_id                         481 non-null    object\n",
      " 12  embargo_info                     481 non-null    object\n",
      " 13  coverage_depth                   481 non-null    object\n",
      " 14  coverage_notes                   481 non-null    object\n",
      " 15  publisher_name                   481 non-null    object\n",
      " 16  publication_type                 481 non-null    object\n",
      " 17  date_monograph_published_print   481 non-null    object\n",
      " 18  date_monograph_published_online  481 non-null    object\n",
      " 19  monograph_volume                 481 non-null    object\n",
      " 20  monograph_edition                481 non-null    object\n",
      " 21  first_editor                     481 non-null    object\n",
      " 22  parent_publication_title_id      481 non-null    object\n",
      " 23  preceding_publication_title_id   481 non-null    object\n",
      " 24  access_type                      481 non-null    object\n",
      " 25  location                         481 non-null    object\n",
      " 26  title_notes                      481 non-null    object\n",
      " 27  staff_notes                      481 non-null    object\n",
      " 28  vendor_id                        481 non-null    object\n",
      " 29  oclc_collection_name             481 non-null    object\n",
      " 30  oclc_collection_id               481 non-null    object\n",
      " 31  oclc_entry_id                    481 non-null    object\n",
      " 32  oclc_linkscheme                  481 non-null    object\n",
      " 33  oclc_number                      481 non-null    object\n",
      " 34  ACTION                           481 non-null    object\n",
      "dtypes: object(35)\n",
      "memory usage: 131.6+ KB\n",
      "None\n"
     ]
    }
   ],
   "source": [
    "#drop unnecessary columns\n",
    "df_oclc_kbart.drop(['note','date updated','status','Aleph BSN','previous_url'], axis=1, inplace=True)\n",
    "print(df_oclc_kbart.info())"
   ]
  },
  {
   "cell_type": "code",
   "execution_count": 12,
   "id": "aefa4154-05f2-4562-94ee-555156971988",
   "metadata": {},
   "outputs": [
    {
     "name": "stdout",
     "output_type": "stream",
     "text": [
      "<class 'pandas.core.frame.DataFrame'>\n",
      "RangeIndex: 481 entries, 0 to 480\n",
      "Data columns (total 35 columns):\n",
      " #   Column                           Non-Null Count  Dtype \n",
      "---  ------                           --------------  ----- \n",
      " 0   publication_title                481 non-null    object\n",
      " 1   print_identifier                 481 non-null    object\n",
      " 2   online_identifier                481 non-null    object\n",
      " 3   date_first_issue_online          481 non-null    object\n",
      " 4   num_first_vol_online             481 non-null    object\n",
      " 5   num_first_issue_online           481 non-null    object\n",
      " 6   date_last_issue_online           481 non-null    object\n",
      " 7   num_last_vol_online              481 non-null    object\n",
      " 8   num_last_issue_online            481 non-null    object\n",
      " 9   title_url                        481 non-null    object\n",
      " 10  first_author                     481 non-null    object\n",
      " 11  title_id                         481 non-null    object\n",
      " 12  embargo_info                     481 non-null    object\n",
      " 13  coverage_depth                   481 non-null    object\n",
      " 14  coverage_notes                   481 non-null    object\n",
      " 15  publisher_name                   481 non-null    object\n",
      " 16  location                         481 non-null    object\n",
      " 17  title_notes                      481 non-null    object\n",
      " 18  staff_notes                      481 non-null    object\n",
      " 19  vendor_id                        481 non-null    object\n",
      " 20  oclc_collection_name             481 non-null    object\n",
      " 21  oclc_collection_id               481 non-null    object\n",
      " 22  oclc_entry_id                    481 non-null    object\n",
      " 23  oclc_linkscheme                  481 non-null    object\n",
      " 24  oclc_number                      481 non-null    object\n",
      " 25  ACTION                           481 non-null    object\n",
      " 26  publication_type                 481 non-null    object\n",
      " 27  date_monograph_published_print   481 non-null    object\n",
      " 28  date_monograph_published_online  481 non-null    object\n",
      " 29  monograph_volume                 481 non-null    object\n",
      " 30  monograph_edition                481 non-null    object\n",
      " 31  first_editor                     481 non-null    object\n",
      " 32  parent_publication_title_id      481 non-null    object\n",
      " 33  preceding_publication_title_id   481 non-null    object\n",
      " 34  access_type                      481 non-null    object\n",
      "dtypes: object(35)\n",
      "memory usage: 131.6+ KB\n",
      "None\n"
     ]
    }
   ],
   "source": [
    "#reorder the columns by moving the NISO KBART columns not found in OCLC's KBART to the end\n",
    "df_oclc_kbart = df_oclc_kbart[[\"publication_title\",\"print_identifier\",\"online_identifier\",\"date_first_issue_online\",\"num_first_vol_online\",\"num_first_issue_online\",\"date_last_issue_online\",\"num_last_vol_online\",\"num_last_issue_online\",\"title_url\",\"first_author\",\"title_id\",\"embargo_info\",\"coverage_depth\",\"coverage_notes\",\"publisher_name\",\"location\",\"title_notes\",\"staff_notes\",\"vendor_id\",\"oclc_collection_name\",\"oclc_collection_id\",\"oclc_entry_id\",\"oclc_linkscheme\",\"oclc_number\",\"ACTION\",\"publication_type\",\"date_monograph_published_print\",\"date_monograph_published_online\",\"monograph_volume\",\"monograph_edition\",\"first_editor\",\"parent_publication_title_id\",\"preceding_publication_title_id\",\"access_type\"]]\n",
    "print(df_oclc_kbart.info())"
   ]
  },
  {
   "cell_type": "code",
   "execution_count": 13,
   "id": "9de5cff5-bcfa-469c-b9bf-09814af37f7f",
   "metadata": {},
   "outputs": [],
   "source": [
    "#write the new OCLC KBART to csv, inserting the collection name and today's date.\n",
    "#from https://matthew-brett.github.io/teaching/string_formatting.html\n",
    "df_oclc_kbart.to_csv(\"nyu_oclc_{}_{}.csv\".format(collection_name,filetime), index=False)"
   ]
  }
 ],
 "metadata": {
  "kernelspec": {
   "display_name": "Python 3 (ipykernel)",
   "language": "python",
   "name": "python3"
  },
  "language_info": {
   "codemirror_mode": {
    "name": "ipython",
    "version": 3
   },
   "file_extension": ".py",
   "mimetype": "text/x-python",
   "name": "python",
   "nbconvert_exporter": "python",
   "pygments_lexer": "ipython3",
   "version": "3.7.10"
  }
 },
 "nbformat": 4,
 "nbformat_minor": 5
}
