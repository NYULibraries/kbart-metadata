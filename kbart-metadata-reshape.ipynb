{
 "cells": [
  {
   "cell_type": "markdown",
   "id": "5461d477-9df1-4f46-99d0-74e76f2031e8",
   "metadata": {},
   "source": [
    "# KBART metadata reshaping script\n",
    "This script takes a title list and generates two derivative KBART files (NISO KBART and OCLC KBART).\n",
    "\n",
    "Written using Python 3.7.10\n",
    "\n",
    "to do: move filters to exclude rows from the original title list to beginning of script, generally reduce redundancies in the two sections of the script; also maybe conditional thing so you can choose which type of KBART to output."
   ]
  },
  {
   "cell_type": "code",
   "execution_count": null,
   "id": "0d2cc5db-e583-459e-a2d1-56e7939fc179",
   "metadata": {},
   "outputs": [],
   "source": [
    "#import modules and libraries\n",
    "import pandas as pd\n",
    "import numpy as np\n",
    "from datetime import datetime, date, time\n",
    "filetime = datetime.now()\n",
    "filetime = filetime.strftime(\"%Y-%m-%d\")"
   ]
  },
  {
   "cell_type": "code",
   "execution_count": null,
   "id": "048569a8-60bd-4ea2-84e3-b3d25dc36a92",
   "metadata": {},
   "outputs": [],
   "source": [
    "#enter the name of the title list to reshape into KBART files\n",
    "title_list = input(\"enter file name and if appropriate filepath of title list csv: \")"
   ]
  },
  {
   "cell_type": "code",
   "execution_count": null,
   "id": "95a0f96a-584b-4f12-abd4-d73356fb7397",
   "metadata": {},
   "outputs": [],
   "source": [
    "#enter the name of the digital collection so that we can use it in the file name later\n",
    "collection_name = input(\"enter the collection name for this title list: \")"
   ]
  },
  {
   "cell_type": "code",
   "execution_count": null,
   "id": "31885a80-46eb-4ef3-84e2-7e4abb141d22",
   "metadata": {},
   "outputs": [],
   "source": [
    "#enter the statuses to exclude from the output\n",
    "status_filter = input(\"enter the statuses to exclude, separated by a pipe character: \")"
   ]
  },
  {
   "cell_type": "code",
   "execution_count": null,
   "id": "0e6c28f1-bc6e-481e-8eb1-7f9b68f0d5af",
   "metadata": {},
   "outputs": [],
   "source": [
    "# load title list dataframe from csv input above\n",
    "df_title_list = pd.read_csv(title_list,na_filter=False,quotechar = '\"')\n",
    "print(df_title_list.info())"
   ]
  },
  {
   "cell_type": "markdown",
   "id": "06e12040-4159-48d0-a038-cba8f77bf533",
   "metadata": {},
   "source": [
    "## NISO KBART\n",
    "First, let's create a KBART file compliant with the NISO standard."
   ]
  },
  {
   "cell_type": "code",
   "execution_count": null,
   "id": "7434af2a-339c-4a89-b19a-233e3ad56803",
   "metadata": {},
   "outputs": [],
   "source": [
    "#copy the title list into a new dataframe that will be used to create the NISO KBART file.\n",
    "df_niso_kbart = df_title_list.copy()\n",
    "#print(df_niso_kbart)"
   ]
  },
  {
   "cell_type": "code",
   "execution_count": null,
   "id": "e5513d03-eab5-4e2b-9cf9-6e3202cfb1b4",
   "metadata": {},
   "outputs": [],
   "source": [
    "#replace ebook with fulltext in coverage_depth column\n",
    "#from https://datatofish.com/replace-values-pandas-dataframe/\n",
    "df_niso_kbart['coverage_depth'] = df_niso_kbart['coverage_depth'].replace(['ebook'],'fulltext')\n",
    "print(df_niso_kbart['coverage_depth'])"
   ]
  },
  {
   "cell_type": "code",
   "execution_count": null,
   "id": "edb67a53-8739-4240-9d22-85c4833189c3",
   "metadata": {},
   "outputs": [],
   "source": [
    "#concatenate original script and transliterated title columns\n",
    "#based on https://stackoverflow.com/questions/60724940/concatenate-strings-across-columns-that-are-not-null\n",
    "df_niso_kbart['publication_title'] = df_niso_kbart[['publication_title_original', 'publication_title_transliteration']].apply(lambda x: ' '.join(x.dropna()), axis=1)\n",
    "print(df_niso_kbart['publication_title'])\n",
    "print(df_niso_kbart.loc[21,'publication_title'])"
   ]
  },
  {
   "cell_type": "code",
   "execution_count": null,
   "id": "c84ee3a5-5bb2-4b62-abfd-3e3d75708f65",
   "metadata": {},
   "outputs": [],
   "source": [
    "#drop rows that contain a status value of \"in progress\" or \"delete\"\n",
    "#based on https://www.statology.org/pandas-drop-rows-that-contain-string/\n",
    "df_niso_kbart = df_niso_kbart[df_niso_kbart['status'].str.contains(status_filter)==False]\n",
    "print(df_niso_kbart.loc[95:120,'publication_title'])"
   ]
  },
  {
   "cell_type": "code",
   "execution_count": null,
   "id": "d4898926-6554-477c-bf64-4762ec2c25d2",
   "metadata": {},
   "outputs": [],
   "source": [
    "#drop unecessary columns from the NISO KBART\n",
    "df_niso_kbart.drop(['note','date updated','status','publication_title_original','publication_title_transliteration','ACTION','Aleph BSN','previous_url'], axis=1, inplace=True)\n",
    "print(df_niso_kbart.info())"
   ]
  },
  {
   "cell_type": "code",
   "execution_count": null,
   "id": "5278acbe-dad4-4c4b-8f6b-fb55d1557405",
   "metadata": {},
   "outputs": [],
   "source": [
    "#move publication_title to be the first column\n",
    "#based on https://www.geeksforgeeks.org/how-to-move-a-column-to-first-position-in-pandas-dataframe/\n",
    "#and https://stackoverflow.com/questions/25122099/move-column-by-name-to-front-of-table-in-pandas\n",
    "col = df_niso_kbart.pop('publication_title')\n",
    "df_niso_kbart.insert(0, col.name, col)\n",
    "print(df_niso_kbart.info())"
   ]
  },
  {
   "cell_type": "code",
   "execution_count": null,
   "id": "9df33e92-6b60-4c9b-a4c1-993189db6bfc",
   "metadata": {},
   "outputs": [],
   "source": [
    "#write the new NISO KBART to tsv, inserting the collection name and today's date.\n",
    "#from https://matthew-brett.github.io/teaching/string_formatting.html\n",
    "df_niso_kbart.to_csv(\"nyu_global_{}_{}.txt\".format(collection_name,filetime), sep=\"\\t\", index=False)"
   ]
  },
  {
   "cell_type": "markdown",
   "id": "42d46183-716a-4004-99d7-561b2571fd02",
   "metadata": {},
   "source": [
    "## OCLC KBART\n",
    "Next, let's create a KBART that can be uploaded to OCLC's Worldshare platform."
   ]
  },
  {
   "cell_type": "code",
   "execution_count": null,
   "id": "ccccbfc0-099e-4074-845f-73068b812591",
   "metadata": {},
   "outputs": [],
   "source": [
    "#copy the title list into a new dataframe that will be used to create the OCLC KBART file.\n",
    "df_oclc_kbart = df_title_list.copy()\n",
    "#print(df_oclc_kbart)"
   ]
  },
  {
   "cell_type": "code",
   "execution_count": null,
   "id": "d6d1e015-2e85-4989-bf6c-7562ee45f68a",
   "metadata": {},
   "outputs": [],
   "source": [
    "#rename the notes column to conform to OCLC's expectations\n",
    "df_oclc_kbart.rename(columns={'notes':'coverage_notes'}, inplace=True)\n",
    "print(df_oclc_kbart.info())"
   ]
  },
  {
   "cell_type": "code",
   "execution_count": null,
   "id": "9c397220-e14d-408b-a940-bd47d525fc1e",
   "metadata": {},
   "outputs": [],
   "source": [
    "#concatenate original script and transliterated title columns\n",
    "#based on https://stackoverflow.com/questions/60724940/concatenate-strings-across-columns-that-are-not-null\n",
    "df_oclc_kbart['publication_title'] = df_oclc_kbart[['publication_title_original', 'publication_title_transliteration']].apply(lambda x: ' '.join(x.dropna()), axis=1)\n",
    "print(df_oclc_kbart['publication_title'])\n",
    "print(df_oclc_kbart.loc[21,'publication_title'])"
   ]
  },
  {
   "cell_type": "code",
   "execution_count": null,
   "id": "e9c6c250-20bb-45f9-bd7a-46b95211e32e",
   "metadata": {},
   "outputs": [],
   "source": [
    "#drop rows that contain a status value of \"in progress\" or \"delete\"\n",
    "#based on https://www.statology.org/pandas-drop-rows-that-contain-string/\n",
    "df_oclc_kbart = df_oclc_kbart[df_oclc_kbart['status'].str.contains(status_filter)==False]\n",
    "print(df_oclc_kbart.loc[95:120,'publication_title'])"
   ]
  },
  {
   "cell_type": "code",
   "execution_count": null,
   "id": "2f7bc310-0608-4b4d-beab-e2d608a5fb27",
   "metadata": {},
   "outputs": [],
   "source": [
    "#drop unnecessary columns\n",
    "df_oclc_kbart.drop([\"note\",\"date updated\",\"status\",\"Aleph BSN\",\"previous_url\",\"publication_title_original\",\"publication_title_transliteration\",\"publication_type\",\"date_monograph_published_print\",\"date_monograph_published_online\",\"monograph_volume\",\"monograph_edition\",\"first_editor\",\"parent_publication_title_id\",\"preceding_publication_title_id\",\"access_type\"], axis=1, inplace=True)\n",
    "print(df_oclc_kbart.info())"
   ]
  },
  {
   "cell_type": "code",
   "execution_count": null,
   "id": "aefa4154-05f2-4562-94ee-555156971988",
   "metadata": {},
   "outputs": [],
   "source": [
    "#reorder the columns by moving the NISO KBART columns not found in OCLC's KBART to the end\n",
    "df_oclc_kbart = df_oclc_kbart[[\"publication_title\",\"print_identifier\",\"online_identifier\",\"date_first_issue_online\",\"num_first_vol_online\",\"num_first_issue_online\",\"date_last_issue_online\",\"num_last_vol_online\",\"num_last_issue_online\",\"title_url\",\"first_author\",\"title_id\",\"embargo_info\",\"coverage_depth\",\"coverage_notes\",\"publisher_name\",\"location\",\"title_notes\",\"staff_notes\",\"vendor_id\",\"oclc_collection_name\",\"oclc_collection_id\",\"oclc_entry_id\",\"oclc_linkscheme\",\"oclc_number\",\"ACTION\"]]\n",
    "print(df_oclc_kbart.info())"
   ]
  },
  {
   "cell_type": "code",
   "execution_count": null,
   "id": "9de5cff5-bcfa-469c-b9bf-09814af37f7f",
   "metadata": {},
   "outputs": [],
   "source": [
    "#write the new OCLC KBART to csv, inserting the collection name and today's date.\n",
    "#from https://matthew-brett.github.io/teaching/string_formatting.html\n",
    "df_oclc_kbart.to_csv(\"nyu_oclc_{}_{}.txt\".format(collection_name,filetime), sep=\"\\t\", index=False)"
   ]
  },
  {
   "cell_type": "code",
   "execution_count": null,
   "id": "99943f13-4b1e-46e5-b117-b2c4463cb48a",
   "metadata": {},
   "outputs": [],
   "source": []
  }
 ],
 "metadata": {
  "kernelspec": {
   "display_name": "Python 3 (ipykernel)",
   "language": "python",
   "name": "python3"
  },
  "language_info": {
   "codemirror_mode": {
    "name": "ipython",
    "version": 3
   },
   "file_extension": ".py",
   "mimetype": "text/x-python",
   "name": "python",
   "nbconvert_exporter": "python",
   "pygments_lexer": "ipython3",
   "version": "3.7.10"
  }
 },
 "nbformat": 4,
 "nbformat_minor": 5
}
